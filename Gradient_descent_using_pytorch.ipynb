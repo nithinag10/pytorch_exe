{
  "nbformat": 4,
  "nbformat_minor": 0,
  "metadata": {
    "colab": {
      "name": "Gradient_descent_using_pytorch.ipynb",
      "provenance": [],
      "collapsed_sections": [],
      "authorship_tag": "ABX9TyO1PZOqsntcWrnLa8iRmBJG",
      "include_colab_link": true
    },
    "kernelspec": {
      "name": "python3",
      "display_name": "Python 3"
    },
    "language_info": {
      "name": "python"
    }
  },
  "cells": [
    {
      "cell_type": "markdown",
      "metadata": {
        "id": "view-in-github",
        "colab_type": "text"
      },
      "source": [
        "<a href=\"https://colab.research.google.com/github/nithinag10/pytorch_exe/blob/master/Gradient_descent_using_pytorch.ipynb\" target=\"_parent\"><img src=\"https://colab.research.google.com/assets/colab-badge.svg\" alt=\"Open In Colab\"/></a>"
      ]
    },
    {
      "cell_type": "code",
      "metadata": {
        "id": "Gpfz4_zB9xHj"
      },
      "source": [
        "import torch \n",
        "from sklearn.datasets import make_classification"
      ],
      "execution_count": 2,
      "outputs": []
    },
    {
      "cell_type": "code",
      "metadata": {
        "id": "LCTVRjXC-htE"
      },
      "source": [
        "from torch.utils.data import DataLoader"
      ],
      "execution_count": 3,
      "outputs": []
    },
    {
      "cell_type": "code",
      "metadata": {
        "id": "nPaC3p_J92cq"
      },
      "source": [
        "class CustomDataset:\n",
        "  def __init__(self , data, target):\n",
        "    self.data = data\n",
        "    self.target = target\n",
        "  def __len__(self):\n",
        "    return len(self.target)\n",
        "  def __getitem__(self , idx):\n",
        "    x = self.data[idx , :]\n",
        "    y = self.target[idx]\n",
        "\n",
        "    return {\n",
        "        \"x\": torch.tensor(x , dtype=float),\n",
        "        \"y\":torch.tensor(y , dtype=float)\n",
        "    }"
      ],
      "execution_count": 32,
      "outputs": []
    },
    {
      "cell_type": "code",
      "metadata": {
        "id": "fVIh81Ju-1cQ"
      },
      "source": [
        "x_array , y_array = make_classification(n_samples=100)"
      ],
      "execution_count": 5,
      "outputs": []
    },
    {
      "cell_type": "code",
      "metadata": {
        "id": "3B0HKDzY-2SU"
      },
      "source": [
        "from torch.utils.data import DataLoader"
      ],
      "execution_count": 6,
      "outputs": []
    },
    {
      "cell_type": "code",
      "metadata": {
        "id": "lQowgp9A-303"
      },
      "source": [
        "train_data = DataLoader(CustomDataset(x_array , y_array) , batch_size=5)"
      ],
      "execution_count": 33,
      "outputs": []
    },
    {
      "cell_type": "code",
      "metadata": {
        "id": "oeJUlWRCcYzH"
      },
      "source": [
        "def model(x, w, b):\n",
        "  return (torch.matmul(x , w) + b)"
      ],
      "execution_count": 34,
      "outputs": []
    },
    {
      "cell_type": "code",
      "metadata": {
        "id": "Cirefmh8-624"
      },
      "source": [
        "def linear_regression(dataset , epochs , learning_rate):\n",
        "  w = torch.rand(20 , 1 ,dtype=float,  requires_grad=True)\n",
        "  b = torch.rand(1 , dtype=float,  requires_grad = True)\n",
        "  cost_list = []\n",
        "  for _ in range(epochs):\n",
        "    for data in train_data:\n",
        "      x = data['x']\n",
        "      y = data['y']\n",
        "      output = model(x , w, b)\n",
        "      loss = torch.mean((y - output) ** 2)\n",
        "      cost_list.append(loss.item())\n",
        "      loss.backward()\n",
        "\n",
        "      with torch.no_grad():\n",
        "        w = w - learning_rate * w.grad\n",
        "        b = b - learning_rate * b.grad\n",
        "\n",
        "      w.requires_grad_(True)\n",
        "      b.requires_grad_(True)\n",
        "\n",
        "  return cost_list\n"
      ],
      "execution_count": 48,
      "outputs": []
    },
    {
      "cell_type": "code",
      "metadata": {
        "id": "YDwAZZhG_DK2"
      },
      "source": [
        "cost_list = linear_regression(train_data , 2 , 0.01)"
      ],
      "execution_count": 49,
      "outputs": []
    },
    {
      "cell_type": "code",
      "metadata": {
        "id": "nAr2W8wM_ES5",
        "colab": {
          "base_uri": "https://localhost:8080/"
        },
        "outputId": "89e41b4e-b630-4942-c886-b89686057cb8"
      },
      "source": [
        "cost_list"
      ],
      "execution_count": 50,
      "outputs": [
        {
          "output_type": "execute_result",
          "data": {
            "text/plain": [
              "[5.43402837981804,\n",
              " 1.9674662398429705,\n",
              " 5.830609422267657,\n",
              " 5.906971235946346,\n",
              " 9.012098433926052,\n",
              " 1.9788646374194951,\n",
              " 4.694038162243024,\n",
              " 2.464107490317268,\n",
              " 6.926835686879474,\n",
              " 3.2166623755370485,\n",
              " 4.53303509402046,\n",
              " 2.6161321884648134,\n",
              " 4.889930148846221,\n",
              " 3.2171121860783467,\n",
              " 3.1247080816637265,\n",
              " 0.7840202877148345,\n",
              " 2.4814838100296526,\n",
              " 2.9577139725213466,\n",
              " 3.1849779222966443,\n",
              " 1.686989331325612,\n",
              " 1.7534535561533602,\n",
              " 1.0345744258256286,\n",
              " 1.8366823455870354,\n",
              " 1.4813553899886114,\n",
              " 3.470424654942931,\n",
              " 0.6943143871530105,\n",
              " 1.3429852301329306,\n",
              " 0.91268067220855,\n",
              " 1.7841009830522914,\n",
              " 1.3239066554725303,\n",
              " 1.7550912431033947,\n",
              " 1.303824349726036,\n",
              " 2.0303136704801075,\n",
              " 1.210168410593515,\n",
              " 1.1400752720509417,\n",
              " 0.4507085396295114,\n",
              " 1.0434874680221253,\n",
              " 1.318143185113683,\n",
              " 1.2543984076932173,\n",
              " 0.786906823105535]"
            ]
          },
          "metadata": {
            "tags": []
          },
          "execution_count": 50
        }
      ]
    },
    {
      "cell_type": "code",
      "metadata": {
        "colab": {
          "base_uri": "https://localhost:8080/",
          "height": 280
        },
        "id": "TYMUHtolgHZV",
        "outputId": "29729cf2-806c-4809-af1f-ddc4e1d95127"
      },
      "source": [
        "import matplotlib.pyplot as plt\n",
        "\n",
        "plt.plot(range(len(cost_list)) , cost_list)"
      ],
      "execution_count": 51,
      "outputs": [
        {
          "output_type": "execute_result",
          "data": {
            "text/plain": [
              "[<matplotlib.lines.Line2D at 0x7fe153127690>]"
            ]
          },
          "metadata": {
            "tags": []
          },
          "execution_count": 51
        },
        {
          "output_type": "display_data",
          "data": {
            "image/png": "[encoded data removed]",
            "text/plain": [
              "<Figure size 432x288 with 1 Axes>"
            ]
          },
          "metadata": {
            "tags": [],
            "needs_background": "light"
          }
        }
      ]
    },
    {
      "cell_type": "code",
      "metadata": {
        "id": "AYx2k4SBgP-9"
      },
      "source": [
        ""
      ],
      "execution_count": null,
      "outputs": []
    }
  ]
}